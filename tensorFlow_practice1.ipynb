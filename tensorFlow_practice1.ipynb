{
 "cells": [
  {
   "cell_type": "code",
   "execution_count": 6,
   "metadata": {},
   "outputs": [
    {
     "name": "stdout",
     "output_type": "stream",
     "text": [
      "Tensor(\"a_3:0\", shape=(), dtype=float32)\n",
      "Tensor(\"add_3:0\", shape=(), dtype=float32)\n",
      "Tensor(\"Const_2:0\", shape=(2, 2), dtype=float32)\n",
      "== Make Session ==\n",
      "[1.0, 2.0]\n",
      "[[1. 2.]\n",
      " [3. 4.]]\n",
      "[3.0]\n",
      "[[2. 3.]\n",
      " [4. 5.]]\n"
     ]
    }
   ],
   "source": [
    "import tensorflow as tf\n",
    "\n",
    "#상수 노드 정의\n",
    "a = tf.constant(1.0 , name = 'a')\n",
    "b = tf.constant(2.0, name = 'b')\n",
    "c = tf.constant([[1.0,2.0],[3.0,4.0]])\n",
    "\n",
    "#세션을 만들지 않았기 때문에 저장된 값이 아닌, 현재 정의 되어있는 노드의 상태(type,shape)\n",
    "print(a)\n",
    "print(a+b)\n",
    "print(c)\n",
    "\n",
    "#세션 만들기\n",
    "sess = tf.Session()\n",
    "print(\"== Make Session ==\")\n",
    "print(sess.run([a,b]))\n",
    "print(sess.run(c))\n",
    "print(sess.run([a+b]))\n",
    "print(sess.run(c+1.0)) #boardCast\n",
    "\n",
    "#세션 닫기\n",
    "sess.close()\n",
    "\n"
   ]
  },
  {
   "cell_type": "code",
   "execution_count": 7,
   "metadata": {},
   "outputs": [
    {
     "name": "stdout",
     "output_type": "stream",
     "text": [
      "4.0\n",
      "[4. 6.]\n",
      "104.0\n",
      "[104. 106.]\n"
     ]
    }
   ],
   "source": [
    "import tensorflow as tf\n",
    "\n",
    "#플레이스 홀더 노드 정의 <- 임의의 값을 입력 받기 위해 사용 ,입력 데이터와 정답 데이터 넣어 주기 위한 용도로 주로 사용 \n",
    "a = tf.placeholder(tf.float32)\n",
    "b = tf.placeholder(tf.float32)\n",
    "c = a+b\n",
    "\n",
    "sess = tf.Session()\n",
    "\n",
    "print(sess.run(c, feed_dict={a:1.0, b:3.0}))\n",
    "print(sess.run(c ,feed_dict={a:[1.0,2.0], b:[3.0,4.0]}))\n",
    "\n",
    "d = 100 +c\n",
    "\n",
    "print(sess.run(d,feed_dict={a:1.0 , b:3.0}))\n",
    "print(sess.run(d ,feed_dict={a:[1.0,2.0], b:[3.0,4.0]}))\n",
    "\n",
    "\n",
    "sess.close()\n"
   ]
  },
  {
   "cell_type": "code",
   "execution_count": 8,
   "metadata": {},
   "outputs": [
    {
     "name": "stdout",
     "output_type": "stream",
     "text": [
      "step = 0 , W1 =  [-1.3126644] , b1 =  [[-0.01221097 -0.6581977 ]]\n",
      "step = 0 , W2 =  [[1.2003517 1.7377146]] , b2 =  [[-0.01221097 -0.6581977 ]]\n",
      "step = 1 , W1 =  [-2.3126645] , b1 =  [[-1.012211  -1.6581976]]\n",
      "step = 1 , W2 =  [[0.20035172 0.73771465]] , b2 =  [[-1.012211  -1.6581976]]\n",
      "step = 2 , W1 =  [-4.3126645] , b1 =  [[-3.0122108 -3.6581976]]\n",
      "step = 2 , W2 =  [[-1.7996483 -1.2622854]] , b2 =  [[-3.0122108 -3.6581976]]\n"
     ]
    }
   ],
   "source": [
    "import tensorflow as tf\n",
    "\n",
    "W1 = tf.Variable(tf.random_normal([1])) # np.random.rand()와 유사\n",
    "b1 = tf.Variable(tf.random_normal([1]))\n",
    "\n",
    "W2 = tf.Variable(tf.random_normal([1,2])) # np.random.rand()와 유사\n",
    "b2 = tf.Variable(tf.random_normal([1,2]))\n",
    "\n",
    "sess = tf.Session()\n",
    "# Variable 노드 값 초기화 , Variable Node 정의 했다면 반드시 필요\n",
    "sess.run(tf.global_variables_initializer())\n",
    "\n",
    "for step in range(3):\n",
    "    W1 = W1 - step\n",
    "    b1 = b2 - step\n",
    "    \n",
    "    W2 = W2 - step\n",
    "    b2 = b2 - step\n",
    "    \n",
    "    print(\"step =\",step,\", W1 = \",sess.run(W1),\", b1 = \",sess.run(b1))\n",
    "    print(\"step =\",step,\", W2 = \",sess.run(W2),\", b2 = \",sess.run(b2))\n",
    "    \n",
    "sess.close()\n",
    "\n"
   ]
  },
  {
   "cell_type": "code",
   "execution_count": null,
   "metadata": {},
   "outputs": [],
   "source": []
  }
 ],
 "metadata": {
  "kernelspec": {
   "display_name": "conda_amazonei_tensorflow_p36",
   "language": "python",
   "name": "conda_amazonei_tensorflow_p36"
  },
  "language_info": {
   "codemirror_mode": {
    "name": "ipython",
    "version": 3
   },
   "file_extension": ".py",
   "mimetype": "text/x-python",
   "name": "python",
   "nbconvert_exporter": "python",
   "pygments_lexer": "ipython3",
   "version": "3.6.5"
  }
 },
 "nbformat": 4,
 "nbformat_minor": 2
}
