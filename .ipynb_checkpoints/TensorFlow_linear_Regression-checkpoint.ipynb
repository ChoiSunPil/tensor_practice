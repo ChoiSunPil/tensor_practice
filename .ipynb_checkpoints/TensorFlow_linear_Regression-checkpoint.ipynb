{
 "cells": [
  {
   "cell_type": "code",
   "execution_count": 12,
   "metadata": {},
   "outputs": [
    {
     "name": "stdout",
     "output_type": "stream",
     "text": [
      "step = 0 ,loss_val =  84790.63\n",
      "step = 400 ,loss_val =  59.005844\n",
      "step = 800 ,loss_val =  45.126007\n",
      "step = 1200 ,loss_val =  35.03649\n",
      "step = 1600 ,loss_val =  27.668804\n",
      "step = 2000 ,loss_val =  22.262074\n",
      "step = 2400 ,loss_val =  18.273746\n",
      "step = 2800 ,loss_val =  15.315516\n",
      "step = 3200 ,loss_val =  13.108674\n",
      "step = 3600 ,loss_val =  11.452607\n",
      "step = 4000 ,loss_val =  10.2023535\n",
      "step = 4400 ,loss_val =  9.252726\n",
      "step = 4800 ,loss_val =  8.527071\n",
      "step = 5200 ,loss_val =  7.969273\n",
      "step = 5600 ,loss_val =  7.5380135\n",
      "step = 6000 ,loss_val =  7.202746\n",
      "step = 6400 ,loss_val =  6.9407334\n",
      "step = 6800 ,loss_val =  6.734952\n",
      "step = 7200 ,loss_val =  6.5725923\n",
      "step = 7600 ,loss_val =  6.443946\n",
      "step = 8000 ,loss_val =  6.341615\n",
      "step = 8400 ,loss_val =  6.2599244\n",
      "step = 8800 ,loss_val =  6.1945105\n",
      "step = 9200 ,loss_val =  6.1419816\n",
      "step = 9600 ,loss_val =  6.0996723\n",
      "\n",
      " Prediction is [[176.98512]]\n"
     ]
    }
   ],
   "source": [
    "import tensorflow as tf\n",
    "import numpy as np\n",
    "\n",
    "loaded_data = np.loadtxt('../neowizard/MachineLearning/data-01.csv',delimiter = ',')\n",
    "x_data = loaded_data[:, 0:-1]\n",
    "t_data = loaded_data[:,[-1]]\n",
    "\n",
    "W = tf.Variable(tf.random_normal([3,1]))\n",
    "b = tf.Variable(tf.random_normal([1]))\n",
    "\n",
    "X = tf.placeholder(tf.float32,[None,3]) #None 이용시, 차후 확장이 가능하다.\n",
    "T = tf.placeholder(tf.float32,[None,1])\n",
    "\n",
    "y = tf.matmul(X,W) +b\n",
    "loss = tf.reduce_mean(tf.square(y-T))\n",
    "learning_rate=1e-5\n",
    "optimizer = tf.train.GradientDescentOptimizer(learning_rate) #GradientDescentOptimizer 최적화 시키는 알고리즘, 여러가지 알고리즘 함수로 변경 가능\n",
    "train = optimizer.minimize(loss)\n",
    "\n",
    "with tf.Session() as sess:\n",
    "    sess.run(tf.global_variables_initializer()) #변수 노드 초기화\n",
    "    for step in range(10000):\n",
    "        loss_val, y_val,_ = sess.run([loss,y,train], feed_dict={X: x_data, T :t_data})\n",
    "        \n",
    "        if step % 400 == 0:\n",
    "            print(\"step =\",step,\",loss_val = \",loss_val)\n",
    "    print(\"\\n Prediction is\",sess.run(y, feed_dict={X : [[100, 98,81]]}))"
   ]
  },
  {
   "cell_type": "code",
   "execution_count": null,
   "metadata": {},
   "outputs": [],
   "source": []
  },
  {
   "cell_type": "code",
   "execution_count": null,
   "metadata": {},
   "outputs": [],
   "source": []
  }
 ],
 "metadata": {
  "kernelspec": {
   "display_name": "conda_amazonei_tensorflow_p36",
   "language": "python",
   "name": "conda_amazonei_tensorflow_p36"
  },
  "language_info": {
   "codemirror_mode": {
    "name": "ipython",
    "version": 3
   },
   "file_extension": ".py",
   "mimetype": "text/x-python",
   "name": "python",
   "nbconvert_exporter": "python",
   "pygments_lexer": "ipython3",
   "version": "3.6.5"
  }
 },
 "nbformat": 4,
 "nbformat_minor": 2
}
